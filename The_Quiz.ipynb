{
 "cells": [
  {
   "attachments": {},
   "cell_type": "markdown",
   "metadata": {},
   "source": [
    "The Quiz!"
   ]
  },
  {
   "cell_type": "code",
   "execution_count": 1,
   "metadata": {},
   "outputs": [
    {
     "name": "stdout",
     "output_type": "stream",
     "text": [
      "Welcome to The Quiz! Hope you are ready for some serious general knowledge quizzing. Get as high a score as you can! First of all, would you mind telling me your name?\n"
     ]
    }
   ],
   "source": [
    "print(\"Welcome to The Quiz! Hope you are ready for some serious general knowledge quizzing. Get as high a score as you can! First of all, would you mind telling me your name?\")"
   ]
  },
  {
   "cell_type": "code",
   "execution_count": 2,
   "metadata": {},
   "outputs": [
    {
     "name": "stdout",
     "output_type": "stream",
     "text": [
      "Hello, cameron! Get ready for some quizzing!\n",
      "You will be asked a series of multiple-choice questions, when selecting your answer, only provide the letter of your answer selection\n"
     ]
    }
   ],
   "source": [
    "player_name = input(\"Player, what is your name?\")\n",
    "print(\"Hello, \" + player_name + \"! Get ready for some quizzing!\")\n",
    "print(\"You will be asked a series of multiple-choice questions, when selecting your answer, only provide the letter of your answer selection\")\n"
   ]
  },
  {
   "cell_type": "code",
   "execution_count": 3,
   "metadata": {},
   "outputs": [],
   "source": [
    "class Quizmaster:\n",
    "    def __init__(self, questions, answers, multiplechoice):\n",
    "        self.questions = questions\n",
    "        self.answers = answers\n",
    "        self.multiplechoice = multiplechoice\n",
    "    \n",
    "    def __repr__(self):\n",
    "        return '{'+ self.questions +', '+ self.answers +', '+ str(self.multiplechoice) +'}'\n",
    "\n",
    "\n",
    "quiz_questions = [Quizmaster(\"Question 1: How many bones are there in the average adult human body?\", \"b\", [\"(a) 207\", \"(b) 206\", \"(c) 300\", \"(d) 270\"]), \n",
    "                  Quizmaster(\"Question 2: What is the capital of Canada?\", \"a\", [\"(a) Ottawa\", \"(b) Toronto\", \"(c) Winnipeg\", \"(d) Banff\"]),\n",
    "                  Quizmaster(\"Question 3: In which Shakespeare play does a character compare the world to a stage?\", \"a\", [\"(a) As You Like It\", \"(b) The Merchant of Venice\", \"(c) A Winter's Tale\", \"(d) Hamlet\"]),\n",
    "                  Quizmaster(\"Question 4: How many human Herpesviruses are there?\", \"d\", [\"(a) 6\", \"(b) 8\", \"(c) 20\", \"(d) 9\"]),\n",
    "                  Quizmaster(\"Question 5: Which TV series was Netflix's number 1 watched show (by hours watched) in 2022?\", \"b\", [\"(a) The Sandman\", \"(b) Stranger Things\", \"(c) Wednesday\", \"(d) Bridgerton\"])]"
   ]
  },
  {
   "cell_type": "code",
   "execution_count": 4,
   "metadata": {},
   "outputs": [],
   "source": [
    "class Player:\n",
    "    def __init__(self, name):\n",
    "        self.name = name\n",
    "        self.score = 0\n",
    "\n",
    "player = Player(player_name)\n"
   ]
  },
  {
   "cell_type": "code",
   "execution_count": 5,
   "metadata": {},
   "outputs": [
    {
     "name": "stdout",
     "output_type": "stream",
     "text": [
      "Question 1: How many bones are there in the average adult human body?\n",
      "(a) 207\n",
      "(b) 206\n",
      "(c) 300\n",
      "(d) 270\n",
      "That is correct!\n",
      "So far, cameron, your score is 1\n",
      "Question 2: What is the capital of Canada?\n",
      "(a) Ottawa\n",
      "(b) Toronto\n",
      "(c) Winnipeg\n",
      "(d) Banff\n",
      "That is correct!\n",
      "So far, cameron, your score is 2\n",
      "Question 3: In which Shakespeare play does a character compare the world to a stage?\n",
      "(a) As you like it\n",
      "(b) The Merchant of Venice\n",
      "(c) A Winter's Tale\n",
      "(d) Hamlet\n",
      "Sorry, that was wrong, the correct answer is a\n",
      "So far, cameron, your score is 2\n",
      "Question 4: How many human Herpesviruses are there?\n",
      "(a) 6\n",
      "(b) 8\n",
      "(c) 20\n",
      "(d) 9\n",
      "That is correct!\n",
      "So far, cameron, your score is 3\n",
      "Question 5: Which TV series was Netflix's number 1 watched show (by hours watched) in 2022?\n",
      "(a) The Sandman\n",
      "(b) Stranger Things\n",
      "(c) Wednesday\n",
      "(d) Bridgerton\n",
      "That is correct!\n",
      "So far, cameron, your score is 4\n"
     ]
    }
   ],
   "source": [
    "for question in quiz_questions:\n",
    "    if (question.multiplechoice != None):\n",
    "        print(f\"{question.questions}\")\n",
    "        for option in question.multiplechoice:\n",
    "            print(option)\n",
    "        userAnswer = input()\n",
    "\n",
    "    if (userAnswer.lower() == question.answers.lower()):\n",
    "        print(\"That is correct!\")\n",
    "        player.score = player.score +1\n",
    "    else:\n",
    "        print(f\"Sorry, that was wrong, the correct answer is {question.answers}\")\n",
    "    print(\"So far, \" + player_name +\", your score is \" + str(player.score))"
   ]
  },
  {
   "cell_type": "code",
   "execution_count": 6,
   "metadata": {},
   "outputs": [
    {
     "name": "stdout",
     "output_type": "stream",
     "text": [
      "Well done player! Your final score is 4. Thanks for playing!\n"
     ]
    }
   ],
   "source": [
    "print(\"Well done player! Your final score is \" + str(player.score) + \". Thanks for playing!\")"
   ]
  }
 ],
 "metadata": {
  "kernelspec": {
   "display_name": "Python 3",
   "language": "python",
   "name": "python3"
  },
  "language_info": {
   "codemirror_mode": {
    "name": "ipython",
    "version": 3
   },
   "file_extension": ".py",
   "mimetype": "text/x-python",
   "name": "python",
   "nbconvert_exporter": "python",
   "pygments_lexer": "ipython3",
   "version": "3.10.4"
  },
  "orig_nbformat": 4,
  "vscode": {
   "interpreter": {
    "hash": "aee8b7b246df8f9039afb4144a1f6fd8d2ca17a180786b69acc140d282b71a49"
   }
  }
 },
 "nbformat": 4,
 "nbformat_minor": 2
}
